{
 "cells": [
  {
   "cell_type": "markdown",
   "metadata": {},
   "source": [
    "<h1 style=\"text-align: center;\">Otimização de Receita e Ocupação no Airbnb de Nova York</h1>"
   ]
  },
  {
   "cell_type": "markdown",
   "metadata": {},
   "source": [
    "<h2 style=\"text-align: center;\">Fatores-Chave para o Sucesso e a Satisfação do Hóspede</h2>\n",
    "\n",
    "<p style=\"text-align: center;\">\n",
    "<a href=\"https://www.kaggle.com/datasets/dgomonov/new-york-city-airbnb-open-data\">NYC Airbnb Open Data - Kaggle</a>\n",
    "</p>"
   ]
  },
  {
   "cell_type": "markdown",
   "metadata": {},
   "source": [
    "### Descrição:\n",
    "\n",
    ">Este conjunto de dados contém informações detalhadas sobre imóveis listados no Airbnb na cidade de Nova York, incluindo: tipo de imóvel, data da última avaliação recebida, valor da diária, localização, entre outras variáveis úteis.\n"
   ]
  },
  {
   "cell_type": "markdown",
   "metadata": {},
   "source": [
    "### Justificativa da Escolha\n",
    "\n",
    "> O dataset representa um problema real, com alto impacto econômico, relevância de mercado e grande potencial analítico. A análise de imóveis mais rentáveis e procurados em Nova York — uma das cidades mais turísticas e competitivas do mundo — revela oportunidades imediatas para otimizar marketing, precificação, riscos e experiência do usuário (melhorar a jornada do hóspede usando dados).\n"
   ]
  },
  {
   "cell_type": "markdown",
   "metadata": {},
   "source": [
    "### Definição do Problema de Negócios\n",
    "\n",
    ">O desafio da Airbnb é maximizar ocupação, receita e satisfação ao identificar como localização, sazonalidade, preços, avaliações e perfil de anfitriões impactam o sucesso. Integrando esses fatores, podemos otimizar experiências, reduzir cancelamentos e criar estratégias personalizadas, reforçando nossa liderança e gerando valor sustentável para hóspedes e anfitriões. Dito isso, o analista de dados deve responder as seguintes perguntas:\n",
    "\n",
    ">1. Quais são as características dos imóveis com maior taxa de ocupação e receita? Responder a esta pergunta permite identificar os fatores de sucesso que geram maior retorno financeiro.\n",
    ">2. Quais são os bairros com maior concentração de imóveis com alta taxa de cancelamento e por quê? Responder a esta pergunta permite identificar os fatores de risco que geram maior impacto a estabilidade e a imagem da Airbnb. "
   ]
  },
  {
   "cell_type": "markdown",
   "metadata": {},
   "source": [
    "### 📘 Dicionário dos Dados\n",
    "\n",
    "\n",
    "| Variável | Explicação |\n",
    "|----------|-----------|\n",
    "| **id** | Código único que identifica cada anúncio no Airbnb. |\n",
    "| **name** | Título criado pelo anfitrião para chamar atenção do anúncio (ex.: \"Aconchegante apê perto do parque\"). |\n",
    "| **host_id** | Código único que identifica o anfitrião (Empresario). |\n",
    "| **host_name** | Nome do anfitrião (Empresario) que publica o anúncio. |\n",
    "| **neighbourhood_group** | Grande região ou distrito da cidade onde o imóvel está localizado (ex.: Brooklyn, Manhattan). |\n",
    "| **neighbourhood** | Bairro específico onde o imóvel está localizado. |\n",
    "| **latitude** | Coordenada geográfica de latitude do imóvel. |\n",
    "| **longitude** | Coordenada geográfica de longitude do imóvel. |\n",
    "| **room_type** | Tipo de acomodação oferecida (ex.: quarto inteiro, quarto privado, compartilhado). |\n",
    "| **price** | Valor da diária em dólares. |\n",
    "| **minimum_nights** | Número mínimo de noites exigido para reservar. |\n",
    "| **number_of_reviews** | Total de avaliações já recebidas pelo anúncio. |\n",
    "| **last_review** | Data da última avaliação recebida. |\n",
    "| **reviews_per_month** | Média de avaliações recebidas por mês. |\n",
    "| **calculated_host_listings_count** | Quantidade de anúncios ativos do mesmo anfitrião (Empresario). |\n",
    "| **availability_365** | Número de dias no ano que o anúncio está disponível para reservas. |"
   ]
  },
  {
   "cell_type": "code",
   "execution_count": 1,
   "metadata": {},
   "outputs": [],
   "source": [
    "\"\"\"\n",
    "import sys\n",
    "!{sys.executable} -m pip install faker\n",
    "\n",
    "Observação: Quando alguma importação falhar por algum motivo. O comando garante que seja instalado\n",
    "o pacote no ambiente Python correto em que o código está sendo executado,\n",
    "evitando conflitos ou problemas de compatibilidade.\n",
    "\n",
    "\"\"\"\n",
    "\n",
    "# --------------------------------------------------\n",
    "#  Importação de bibliotecas essenciais\n",
    "# --------------------------------------------------\n",
    "\n",
    "# Manipulação e análise de dados\n",
    "import pandas as pd\n",
    "import numpy as np\n",
    "\n",
    "# Visualização de dados\n",
    "import matplotlib.pyplot as plt\n",
    "import seaborn as sns\n",
    "\n",
    "# Análises estatísticas \n",
    "from scipy import stats\n",
    "\n",
    "# Trabalhar com datas\n",
    "from datetime import datetime"
   ]
  },
  {
   "cell_type": "code",
   "execution_count": 2,
   "metadata": {},
   "outputs": [
    {
     "ename": "FileNotFoundError",
     "evalue": "[Errno 2] No such file or directory: 'C:/Users/Windows/Desktop/adatech/projeto-final/AB_NYC_2019.csv'",
     "output_type": "error",
     "traceback": [
      "\u001b[1;31m---------------------------------------------------------------------------\u001b[0m",
      "\u001b[1;31mFileNotFoundError\u001b[0m                         Traceback (most recent call last)",
      "File \u001b[1;32m<timed exec>:2\u001b[0m\n",
      "File \u001b[1;32m~\\anaconda3\\envs\\py310\\lib\\site-packages\\pandas\\util\\_decorators.py:211\u001b[0m, in \u001b[0;36mdeprecate_kwarg.<locals>._deprecate_kwarg.<locals>.wrapper\u001b[1;34m(*args, **kwargs)\u001b[0m\n\u001b[0;32m    209\u001b[0m     \u001b[38;5;28;01melse\u001b[39;00m:\n\u001b[0;32m    210\u001b[0m         kwargs[new_arg_name] \u001b[38;5;241m=\u001b[39m new_arg_value\n\u001b[1;32m--> 211\u001b[0m \u001b[38;5;28;01mreturn\u001b[39;00m func(\u001b[38;5;241m*\u001b[39margs, \u001b[38;5;241m*\u001b[39m\u001b[38;5;241m*\u001b[39mkwargs)\n",
      "File \u001b[1;32m~\\anaconda3\\envs\\py310\\lib\\site-packages\\pandas\\util\\_decorators.py:331\u001b[0m, in \u001b[0;36mdeprecate_nonkeyword_arguments.<locals>.decorate.<locals>.wrapper\u001b[1;34m(*args, **kwargs)\u001b[0m\n\u001b[0;32m    325\u001b[0m \u001b[38;5;28;01mif\u001b[39;00m \u001b[38;5;28mlen\u001b[39m(args) \u001b[38;5;241m>\u001b[39m num_allow_args:\n\u001b[0;32m    326\u001b[0m     warnings\u001b[38;5;241m.\u001b[39mwarn(\n\u001b[0;32m    327\u001b[0m         msg\u001b[38;5;241m.\u001b[39mformat(arguments\u001b[38;5;241m=\u001b[39m_format_argument_list(allow_args)),\n\u001b[0;32m    328\u001b[0m         \u001b[38;5;167;01mFutureWarning\u001b[39;00m,\n\u001b[0;32m    329\u001b[0m         stacklevel\u001b[38;5;241m=\u001b[39mfind_stack_level(),\n\u001b[0;32m    330\u001b[0m     )\n\u001b[1;32m--> 331\u001b[0m \u001b[38;5;28;01mreturn\u001b[39;00m func(\u001b[38;5;241m*\u001b[39margs, \u001b[38;5;241m*\u001b[39m\u001b[38;5;241m*\u001b[39mkwargs)\n",
      "File \u001b[1;32m~\\anaconda3\\envs\\py310\\lib\\site-packages\\pandas\\io\\parsers\\readers.py:950\u001b[0m, in \u001b[0;36mread_csv\u001b[1;34m(filepath_or_buffer, sep, delimiter, header, names, index_col, usecols, squeeze, prefix, mangle_dupe_cols, dtype, engine, converters, true_values, false_values, skipinitialspace, skiprows, skipfooter, nrows, na_values, keep_default_na, na_filter, verbose, skip_blank_lines, parse_dates, infer_datetime_format, keep_date_col, date_parser, dayfirst, cache_dates, iterator, chunksize, compression, thousands, decimal, lineterminator, quotechar, quoting, doublequote, escapechar, comment, encoding, encoding_errors, dialect, error_bad_lines, warn_bad_lines, on_bad_lines, delim_whitespace, low_memory, memory_map, float_precision, storage_options)\u001b[0m\n\u001b[0;32m    935\u001b[0m kwds_defaults \u001b[38;5;241m=\u001b[39m _refine_defaults_read(\n\u001b[0;32m    936\u001b[0m     dialect,\n\u001b[0;32m    937\u001b[0m     delimiter,\n\u001b[1;32m   (...)\u001b[0m\n\u001b[0;32m    946\u001b[0m     defaults\u001b[38;5;241m=\u001b[39m{\u001b[38;5;124m\"\u001b[39m\u001b[38;5;124mdelimiter\u001b[39m\u001b[38;5;124m\"\u001b[39m: \u001b[38;5;124m\"\u001b[39m\u001b[38;5;124m,\u001b[39m\u001b[38;5;124m\"\u001b[39m},\n\u001b[0;32m    947\u001b[0m )\n\u001b[0;32m    948\u001b[0m kwds\u001b[38;5;241m.\u001b[39mupdate(kwds_defaults)\n\u001b[1;32m--> 950\u001b[0m \u001b[38;5;28;01mreturn\u001b[39;00m \u001b[43m_read\u001b[49m\u001b[43m(\u001b[49m\u001b[43mfilepath_or_buffer\u001b[49m\u001b[43m,\u001b[49m\u001b[43m \u001b[49m\u001b[43mkwds\u001b[49m\u001b[43m)\u001b[49m\n",
      "File \u001b[1;32m~\\anaconda3\\envs\\py310\\lib\\site-packages\\pandas\\io\\parsers\\readers.py:605\u001b[0m, in \u001b[0;36m_read\u001b[1;34m(filepath_or_buffer, kwds)\u001b[0m\n\u001b[0;32m    602\u001b[0m _validate_names(kwds\u001b[38;5;241m.\u001b[39mget(\u001b[38;5;124m\"\u001b[39m\u001b[38;5;124mnames\u001b[39m\u001b[38;5;124m\"\u001b[39m, \u001b[38;5;28;01mNone\u001b[39;00m))\n\u001b[0;32m    604\u001b[0m \u001b[38;5;66;03m# Create the parser.\u001b[39;00m\n\u001b[1;32m--> 605\u001b[0m parser \u001b[38;5;241m=\u001b[39m TextFileReader(filepath_or_buffer, \u001b[38;5;241m*\u001b[39m\u001b[38;5;241m*\u001b[39mkwds)\n\u001b[0;32m    607\u001b[0m \u001b[38;5;28;01mif\u001b[39;00m chunksize \u001b[38;5;129;01mor\u001b[39;00m iterator:\n\u001b[0;32m    608\u001b[0m     \u001b[38;5;28;01mreturn\u001b[39;00m parser\n",
      "File \u001b[1;32m~\\anaconda3\\envs\\py310\\lib\\site-packages\\pandas\\io\\parsers\\readers.py:1442\u001b[0m, in \u001b[0;36mTextFileReader.__init__\u001b[1;34m(self, f, engine, **kwds)\u001b[0m\n\u001b[0;32m   1439\u001b[0m     \u001b[38;5;28mself\u001b[39m\u001b[38;5;241m.\u001b[39moptions[\u001b[38;5;124m\"\u001b[39m\u001b[38;5;124mhas_index_names\u001b[39m\u001b[38;5;124m\"\u001b[39m] \u001b[38;5;241m=\u001b[39m kwds[\u001b[38;5;124m\"\u001b[39m\u001b[38;5;124mhas_index_names\u001b[39m\u001b[38;5;124m\"\u001b[39m]\n\u001b[0;32m   1441\u001b[0m \u001b[38;5;28mself\u001b[39m\u001b[38;5;241m.\u001b[39mhandles: IOHandles \u001b[38;5;241m|\u001b[39m \u001b[38;5;28;01mNone\u001b[39;00m \u001b[38;5;241m=\u001b[39m \u001b[38;5;28;01mNone\u001b[39;00m\n\u001b[1;32m-> 1442\u001b[0m \u001b[38;5;28mself\u001b[39m\u001b[38;5;241m.\u001b[39m_engine \u001b[38;5;241m=\u001b[39m \u001b[38;5;28;43mself\u001b[39;49m\u001b[38;5;241;43m.\u001b[39;49m\u001b[43m_make_engine\u001b[49m\u001b[43m(\u001b[49m\u001b[43mf\u001b[49m\u001b[43m,\u001b[49m\u001b[43m \u001b[49m\u001b[38;5;28;43mself\u001b[39;49m\u001b[38;5;241;43m.\u001b[39;49m\u001b[43mengine\u001b[49m\u001b[43m)\u001b[49m\n",
      "File \u001b[1;32m~\\anaconda3\\envs\\py310\\lib\\site-packages\\pandas\\io\\parsers\\readers.py:1735\u001b[0m, in \u001b[0;36mTextFileReader._make_engine\u001b[1;34m(self, f, engine)\u001b[0m\n\u001b[0;32m   1733\u001b[0m     \u001b[38;5;28;01mif\u001b[39;00m \u001b[38;5;124m\"\u001b[39m\u001b[38;5;124mb\u001b[39m\u001b[38;5;124m\"\u001b[39m \u001b[38;5;129;01mnot\u001b[39;00m \u001b[38;5;129;01min\u001b[39;00m mode:\n\u001b[0;32m   1734\u001b[0m         mode \u001b[38;5;241m+\u001b[39m\u001b[38;5;241m=\u001b[39m \u001b[38;5;124m\"\u001b[39m\u001b[38;5;124mb\u001b[39m\u001b[38;5;124m\"\u001b[39m\n\u001b[1;32m-> 1735\u001b[0m \u001b[38;5;28mself\u001b[39m\u001b[38;5;241m.\u001b[39mhandles \u001b[38;5;241m=\u001b[39m \u001b[43mget_handle\u001b[49m\u001b[43m(\u001b[49m\n\u001b[0;32m   1736\u001b[0m \u001b[43m    \u001b[49m\u001b[43mf\u001b[49m\u001b[43m,\u001b[49m\n\u001b[0;32m   1737\u001b[0m \u001b[43m    \u001b[49m\u001b[43mmode\u001b[49m\u001b[43m,\u001b[49m\n\u001b[0;32m   1738\u001b[0m \u001b[43m    \u001b[49m\u001b[43mencoding\u001b[49m\u001b[38;5;241;43m=\u001b[39;49m\u001b[38;5;28;43mself\u001b[39;49m\u001b[38;5;241;43m.\u001b[39;49m\u001b[43moptions\u001b[49m\u001b[38;5;241;43m.\u001b[39;49m\u001b[43mget\u001b[49m\u001b[43m(\u001b[49m\u001b[38;5;124;43m\"\u001b[39;49m\u001b[38;5;124;43mencoding\u001b[39;49m\u001b[38;5;124;43m\"\u001b[39;49m\u001b[43m,\u001b[49m\u001b[43m \u001b[49m\u001b[38;5;28;43;01mNone\u001b[39;49;00m\u001b[43m)\u001b[49m\u001b[43m,\u001b[49m\n\u001b[0;32m   1739\u001b[0m \u001b[43m    \u001b[49m\u001b[43mcompression\u001b[49m\u001b[38;5;241;43m=\u001b[39;49m\u001b[38;5;28;43mself\u001b[39;49m\u001b[38;5;241;43m.\u001b[39;49m\u001b[43moptions\u001b[49m\u001b[38;5;241;43m.\u001b[39;49m\u001b[43mget\u001b[49m\u001b[43m(\u001b[49m\u001b[38;5;124;43m\"\u001b[39;49m\u001b[38;5;124;43mcompression\u001b[39;49m\u001b[38;5;124;43m\"\u001b[39;49m\u001b[43m,\u001b[49m\u001b[43m \u001b[49m\u001b[38;5;28;43;01mNone\u001b[39;49;00m\u001b[43m)\u001b[49m\u001b[43m,\u001b[49m\n\u001b[0;32m   1740\u001b[0m \u001b[43m    \u001b[49m\u001b[43mmemory_map\u001b[49m\u001b[38;5;241;43m=\u001b[39;49m\u001b[38;5;28;43mself\u001b[39;49m\u001b[38;5;241;43m.\u001b[39;49m\u001b[43moptions\u001b[49m\u001b[38;5;241;43m.\u001b[39;49m\u001b[43mget\u001b[49m\u001b[43m(\u001b[49m\u001b[38;5;124;43m\"\u001b[39;49m\u001b[38;5;124;43mmemory_map\u001b[39;49m\u001b[38;5;124;43m\"\u001b[39;49m\u001b[43m,\u001b[49m\u001b[43m \u001b[49m\u001b[38;5;28;43;01mFalse\u001b[39;49;00m\u001b[43m)\u001b[49m\u001b[43m,\u001b[49m\n\u001b[0;32m   1741\u001b[0m \u001b[43m    \u001b[49m\u001b[43mis_text\u001b[49m\u001b[38;5;241;43m=\u001b[39;49m\u001b[43mis_text\u001b[49m\u001b[43m,\u001b[49m\n\u001b[0;32m   1742\u001b[0m \u001b[43m    \u001b[49m\u001b[43merrors\u001b[49m\u001b[38;5;241;43m=\u001b[39;49m\u001b[38;5;28;43mself\u001b[39;49m\u001b[38;5;241;43m.\u001b[39;49m\u001b[43moptions\u001b[49m\u001b[38;5;241;43m.\u001b[39;49m\u001b[43mget\u001b[49m\u001b[43m(\u001b[49m\u001b[38;5;124;43m\"\u001b[39;49m\u001b[38;5;124;43mencoding_errors\u001b[39;49m\u001b[38;5;124;43m\"\u001b[39;49m\u001b[43m,\u001b[49m\u001b[43m \u001b[49m\u001b[38;5;124;43m\"\u001b[39;49m\u001b[38;5;124;43mstrict\u001b[39;49m\u001b[38;5;124;43m\"\u001b[39;49m\u001b[43m)\u001b[49m\u001b[43m,\u001b[49m\n\u001b[0;32m   1743\u001b[0m \u001b[43m    \u001b[49m\u001b[43mstorage_options\u001b[49m\u001b[38;5;241;43m=\u001b[39;49m\u001b[38;5;28;43mself\u001b[39;49m\u001b[38;5;241;43m.\u001b[39;49m\u001b[43moptions\u001b[49m\u001b[38;5;241;43m.\u001b[39;49m\u001b[43mget\u001b[49m\u001b[43m(\u001b[49m\u001b[38;5;124;43m\"\u001b[39;49m\u001b[38;5;124;43mstorage_options\u001b[39;49m\u001b[38;5;124;43m\"\u001b[39;49m\u001b[43m,\u001b[49m\u001b[43m \u001b[49m\u001b[38;5;28;43;01mNone\u001b[39;49;00m\u001b[43m)\u001b[49m\u001b[43m,\u001b[49m\n\u001b[0;32m   1744\u001b[0m \u001b[43m\u001b[49m\u001b[43m)\u001b[49m\n\u001b[0;32m   1745\u001b[0m \u001b[38;5;28;01massert\u001b[39;00m \u001b[38;5;28mself\u001b[39m\u001b[38;5;241m.\u001b[39mhandles \u001b[38;5;129;01mis\u001b[39;00m \u001b[38;5;129;01mnot\u001b[39;00m \u001b[38;5;28;01mNone\u001b[39;00m\n\u001b[0;32m   1746\u001b[0m f \u001b[38;5;241m=\u001b[39m \u001b[38;5;28mself\u001b[39m\u001b[38;5;241m.\u001b[39mhandles\u001b[38;5;241m.\u001b[39mhandle\n",
      "File \u001b[1;32m~\\anaconda3\\envs\\py310\\lib\\site-packages\\pandas\\io\\common.py:856\u001b[0m, in \u001b[0;36mget_handle\u001b[1;34m(path_or_buf, mode, encoding, compression, memory_map, is_text, errors, storage_options)\u001b[0m\n\u001b[0;32m    851\u001b[0m \u001b[38;5;28;01melif\u001b[39;00m \u001b[38;5;28misinstance\u001b[39m(handle, \u001b[38;5;28mstr\u001b[39m):\n\u001b[0;32m    852\u001b[0m     \u001b[38;5;66;03m# Check whether the filename is to be opened in binary mode.\u001b[39;00m\n\u001b[0;32m    853\u001b[0m     \u001b[38;5;66;03m# Binary mode does not support 'encoding' and 'newline'.\u001b[39;00m\n\u001b[0;32m    854\u001b[0m     \u001b[38;5;28;01mif\u001b[39;00m ioargs\u001b[38;5;241m.\u001b[39mencoding \u001b[38;5;129;01mand\u001b[39;00m \u001b[38;5;124m\"\u001b[39m\u001b[38;5;124mb\u001b[39m\u001b[38;5;124m\"\u001b[39m \u001b[38;5;129;01mnot\u001b[39;00m \u001b[38;5;129;01min\u001b[39;00m ioargs\u001b[38;5;241m.\u001b[39mmode:\n\u001b[0;32m    855\u001b[0m         \u001b[38;5;66;03m# Encoding\u001b[39;00m\n\u001b[1;32m--> 856\u001b[0m         handle \u001b[38;5;241m=\u001b[39m \u001b[38;5;28;43mopen\u001b[39;49m\u001b[43m(\u001b[49m\n\u001b[0;32m    857\u001b[0m \u001b[43m            \u001b[49m\u001b[43mhandle\u001b[49m\u001b[43m,\u001b[49m\n\u001b[0;32m    858\u001b[0m \u001b[43m            \u001b[49m\u001b[43mioargs\u001b[49m\u001b[38;5;241;43m.\u001b[39;49m\u001b[43mmode\u001b[49m\u001b[43m,\u001b[49m\n\u001b[0;32m    859\u001b[0m \u001b[43m            \u001b[49m\u001b[43mencoding\u001b[49m\u001b[38;5;241;43m=\u001b[39;49m\u001b[43mioargs\u001b[49m\u001b[38;5;241;43m.\u001b[39;49m\u001b[43mencoding\u001b[49m\u001b[43m,\u001b[49m\n\u001b[0;32m    860\u001b[0m \u001b[43m            \u001b[49m\u001b[43merrors\u001b[49m\u001b[38;5;241;43m=\u001b[39;49m\u001b[43merrors\u001b[49m\u001b[43m,\u001b[49m\n\u001b[0;32m    861\u001b[0m \u001b[43m            \u001b[49m\u001b[43mnewline\u001b[49m\u001b[38;5;241;43m=\u001b[39;49m\u001b[38;5;124;43m\"\u001b[39;49m\u001b[38;5;124;43m\"\u001b[39;49m\u001b[43m,\u001b[49m\n\u001b[0;32m    862\u001b[0m \u001b[43m        \u001b[49m\u001b[43m)\u001b[49m\n\u001b[0;32m    863\u001b[0m     \u001b[38;5;28;01melse\u001b[39;00m:\n\u001b[0;32m    864\u001b[0m         \u001b[38;5;66;03m# Binary mode\u001b[39;00m\n\u001b[0;32m    865\u001b[0m         handle \u001b[38;5;241m=\u001b[39m \u001b[38;5;28mopen\u001b[39m(handle, ioargs\u001b[38;5;241m.\u001b[39mmode)\n",
      "\u001b[1;31mFileNotFoundError\u001b[0m: [Errno 2] No such file or directory: 'C:/Users/Windows/Desktop/adatech/projeto-final/AB_NYC_2019.csv'"
     ]
    }
   ],
   "source": [
    "%%time\n",
    "\n",
    "# Dataset original\n",
    "df = pd.read_csv('C:/Users/Windows/Desktop/adatech/projeto-final/AB_NYC_2019.csv')"
   ]
  },
  {
   "cell_type": "code",
   "execution_count": 3,
   "metadata": {},
   "outputs": [
    {
     "ename": "NameError",
     "evalue": "name 'df' is not defined",
     "output_type": "error",
     "traceback": [
      "\u001b[1;31m---------------------------------------------------------------------------\u001b[0m",
      "\u001b[1;31mNameError\u001b[0m                                 Traceback (most recent call last)",
      "Cell \u001b[1;32mIn[3], line 7\u001b[0m\n\u001b[0;32m      1\u001b[0m \u001b[38;5;124;03m\"\"\"\u001b[39;00m\n\u001b[0;32m      2\u001b[0m \u001b[38;5;124;03mdf_copy, para preservar o dataset original. Isso garante integridade dos dados\u001b[39;00m\n\u001b[0;32m      3\u001b[0m \u001b[38;5;124;03me permite aplicar transformações e limpezas sem risco de alterar a fonte,\u001b[39;00m\n\u001b[0;32m      4\u001b[0m \u001b[38;5;124;03mseguindo boas práticas de análise de dados.\u001b[39;00m\n\u001b[0;32m      5\u001b[0m \n\u001b[0;32m      6\u001b[0m \u001b[38;5;124;03m\"\"\"\u001b[39;00m\n\u001b[1;32m----> 7\u001b[0m df_copy \u001b[38;5;241m=\u001b[39m \u001b[43mdf\u001b[49m\u001b[38;5;241m.\u001b[39mcopy()\n",
      "\u001b[1;31mNameError\u001b[0m: name 'df' is not defined"
     ]
    }
   ],
   "source": [
    "\"\"\"\n",
    "df_copy, para preservar o dataset original. Isso garante integridade dos dados\n",
    "e permite aplicar transformações e limpezas sem risco de alterar a fonte,\n",
    "seguindo boas práticas de análise de dados.\n",
    "\n",
    "\"\"\"\n",
    "df_copy = df.copy()"
   ]
  },
  {
   "cell_type": "code",
   "execution_count": null,
   "metadata": {},
   "outputs": [],
   "source": [
    "# Visão geral inicial\n",
    "df_copy.shape"
   ]
  },
  {
   "cell_type": "code",
   "execution_count": null,
   "metadata": {},
   "outputs": [],
   "source": [
    "# Visão geral inicial\n",
    "df_copy.info()"
   ]
  },
  {
   "cell_type": "code",
   "execution_count": null,
   "metadata": {},
   "outputs": [],
   "source": [
    "# Visão geral inicial\n",
    "df_copy.head(3)"
   ]
  },
  {
   "cell_type": "markdown",
   "metadata": {},
   "source": [
    "### Relatório da Visão Geral Inicial\n",
    "\n",
    ">A análise da visão geral inicial do dataset da Airbnb em Nova York revela uma base robusta com quase 49.000 registros e 16 atributos. A maior oportunidade de impacto tem-se nos 10.000 imóveis sem avaliações da coluna last_review (Data da última avaliação recebida) e, consequentemente, sem o histórico de reviews_per_month (Média de avaliações recebidas por mês), o que representa uma lacuna importante da estratégica de dados. Esses imóveis sem avaliações podem identificar insigths ocultos, como por exemplo, nichos de mercado, como imóveis localizados em bairros pouco conhecidos pelos turistas, mas com grande potencial de crescimento, alavancagem financeira e de imagem da Airbnb."
   ]
  },
  {
   "cell_type": "markdown",
   "metadata": {},
   "source": [
    "### Pré-processamento e Limpeza"
   ]
  },
  {
   "cell_type": "code",
   "execution_count": null,
   "metadata": {},
   "outputs": [],
   "source": [
    "# Percentual de valores faltantes por coluna\n",
    "missing_pct = df_copy.isnull().mean() * 100\n",
    "print(missing_pct[missing_pct > 0].sort_values(ascending=False))"
   ]
  },
  {
   "cell_type": "code",
   "execution_count": null,
   "metadata": {},
   "outputs": [],
   "source": [
    "# Convertendo para datetime primeiro (Boa Prática)\n",
    "df_copy['last_review'] = pd.to_datetime(df_copy['last_review'])"
   ]
  },
  {
   "cell_type": "code",
   "execution_count": null,
   "metadata": {},
   "outputs": [],
   "source": [
    "df_copy['last_review'] = df_copy['last_review'].ffill()"
   ]
  },
  {
   "cell_type": "code",
   "execution_count": null,
   "metadata": {},
   "outputs": [],
   "source": [
    "df_copy['reviews_per_month'] = df_copy['reviews_per_month'].fillna(0)"
   ]
  },
  {
   "cell_type": "code",
   "execution_count": null,
   "metadata": {},
   "outputs": [],
   "source": [
    "# Preencher nulos nas colunas 'host_name' e 'name' com 'Desconhecido'\n",
    "df_copy[['host_name', 'name']] = df_copy[['host_name', 'name']].fillna('Desconhecido')"
   ]
  },
  {
   "cell_type": "code",
   "execution_count": null,
   "metadata": {},
   "outputs": [],
   "source": [
    "# Verificação de DUPLICADOS\n",
    "\n",
    "# Retorna uma série de valores booleanos\n",
    "duplicados = df_copy.duplicated()\n",
    "\n",
    "# Exibe o número total de linhas duplicadas\n",
    "print(f'Número de linhas duplicadas: {duplicados.sum()}')"
   ]
  },
  {
   "cell_type": "code",
   "execution_count": null,
   "metadata": {},
   "outputs": [],
   "source": [
    "# Seleção das colunas para exclusão\n",
    "colunas_para_excluir = ['id']\n",
    "\n",
    "# Excluir colunas com drop\n",
    "df_copy.drop(colunas_para_excluir, axis=1, inplace=True)"
   ]
  },
  {
   "cell_type": "code",
   "execution_count": null,
   "metadata": {},
   "outputs": [],
   "source": [
    "# Lista as colunas de texto para verificação.\n",
    "colunas_para_analise = ['neighbourhood_group', 'neighbourhood', 'room_type', 'name', 'host_name']\n",
    "\n",
    "print(\"--- Verificação de Problemas em Colunas de Texto ---\")\n",
    "\n",
    "for col in colunas_para_analise:\n",
    "    print(f\"\\nVerificando a Coluna: '{col}'\")\n",
    "    \n",
    "    # 1. Verifica se há espaços em branco no início ou no fim.\n",
    "    espacos_nas_bordas = df_copy[col].str.strip() != df_copy[col]\n",
    "    \n",
    "    # 2. Verifica se há múltiplos espaços no meio (ex: 'New  York').\n",
    "    multiplos_espacos = df_copy[col].str.contains(r'\\s{2,}', na=False, regex=True)\n",
    "    \n",
    "    # 3. Verifica inconsistências de escrita (ex: 'Brooklyn' vs 'brooklyn').\n",
    "    unicos_antes = df_copy[col].nunique()\n",
    "    unicos_depois = df_copy[col].str.strip().str.lower().nunique()\n",
    "    inconsistencias_escrita = unicos_antes > unicos_depois\n",
    "    diferenca = unicos_antes - unicos_depois\n",
    "\n",
    "    # --- Apresentação dos resultados ---\n",
    "    \n",
    "    if espacos_nas_bordas.any():\n",
    "        print(f\"  X Espaços extras no início/fim: Sim ({espacos_nas_bordas.sum()} ocorrências)\")\n",
    "    else:\n",
    "        print(f\"  0 Espaços extras no início/fim: Não\")\n",
    "    \n",
    "    if multiplos_espacos.any():\n",
    "        print(f\"  X Múltiplos espaços no meio: Sim ({multiplos_espacos.sum()} ocorrências)\")\n",
    "    else:\n",
    "        print(f\"  0 Múltiplos espaços no meio: Não\")\n",
    "\n",
    "    if inconsistencias_escrita:\n",
    "        print(f\"  X Inconsistências de escrita: Sim ({diferenca} ocorrências)\")\n",
    "    else:\n",
    "        print(f\"  0 Inconsistências de escrita: Não\")\n",
    "    \n",
    "    print(\"-\" * 30)"
   ]
  },
  {
   "cell_type": "code",
   "execution_count": null,
   "metadata": {},
   "outputs": [],
   "source": [
    "# Mapeia as colunas de texto para limpeza.\n",
    "colunas_para_limpar = ['name', 'host_name']\n",
    "\n",
    "# Aplica as operações de limpeza (minúsculas, remoção de espaços, inconsistências e substituição de múltiplos espaços).\n",
    "df_copy[colunas_para_limpar] = df_copy[colunas_para_limpar].apply(\n",
    "    lambda x: x.str.strip().str.lower().str.replace(r'\\s+', ' ', regex=True)\n",
    ")"
   ]
  },
  {
   "cell_type": "code",
   "execution_count": null,
   "metadata": {},
   "outputs": [],
   "source": [
    "# Lista as colunas de texto para verificação após transformação.\n",
    "colunas_para_analise = ['name', 'host_name']\n",
    "\n",
    "print(\"--- Verificação de Problemas em Colunas de Texto ---\")\n",
    "\n",
    "for col in colunas_para_analise:\n",
    "    print(f\"\\nVerificando a Coluna: '{col}'\")\n",
    "    \n",
    "    # 1. Verifica se há espaços em branco no início ou no fim.\n",
    "    espacos_nas_bordas = df_copy[col].str.strip() != df_copy[col]\n",
    "    \n",
    "    # 2. Verifica se há múltiplos espaços no meio (ex: 'New  York').\n",
    "    multiplos_espacos = df_copy[col].str.contains(r'\\s{2,}', na=False, regex=True)\n",
    "    \n",
    "    # 3. Verifica inconsistências de escrita (ex: 'Brooklyn' vs 'brooklyn').\n",
    "    unicos_antes = df_copy[col].nunique()\n",
    "    unicos_depois = df_copy[col].str.strip().str.lower().nunique()\n",
    "    inconsistencias_escrita = unicos_antes > unicos_depois\n",
    "    diferenca = unicos_antes - unicos_depois\n",
    "\n",
    "    # --- Apresentação dos resultados ---\n",
    "    \n",
    "    if espacos_nas_bordas.any():\n",
    "        print(f\"  X Espaços extras no início/fim: Sim ({espacos_nas_bordas.sum()} ocorrências)\")\n",
    "    else:\n",
    "        print(f\"  0 Espaços extras no início/fim: Não\")\n",
    "    \n",
    "    if multiplos_espacos.any():\n",
    "        print(f\"  X Múltiplos espaços no meio: Sim ({multiplos_espacos.sum()} ocorrências)\")\n",
    "    else:\n",
    "        print(f\"  0 Múltiplos espaços no meio: Não\")\n",
    "\n",
    "    if inconsistencias_escrita:\n",
    "        print(f\"  X Inconsistências de escrita: Sim ({diferenca} ocorrências)\")\n",
    "    else:\n",
    "        print(f\"  0 Inconsistências de escrita: Não\")\n",
    "    \n",
    "    print(\"-\" * 30)   \n"
   ]
  },
  {
   "cell_type": "markdown",
   "metadata": {},
   "source": [
    "### Relatório Pré-processamento e Limpeza\n",
    "\n",
    ">A preparação dos dados do Airbnb nos posiciona para insights estratégicos. Foi priorizado a confiabilidade e a clareza ao lidar com os dados ausentes. Para as datas de avaliações, foi utilizado a técnica forward fill para garantir a continuidade temporal dos dados, o que é crucial para identificar tendências e sazonalidades.\n",
    "\n",
    ">Foi preenchido as avaliações ausentes com zero para refletir a realidade, um anfitrião sem avaliações tem uma taxa de avaliação de zero. Além disso, foi categorizado os anfitriões sem nome como \"Desconhecido\", transformando-os de um problema de dados em uma oportunidade de identificar anfitriões (Empresarios) inexplorados ou que operam fora do padrão.\n",
    "\n",
    ">Essas ações, combinadas com a padronização dos textos, garantem que as análises e recomendações sejam precisas e confiáveis, permitindo identificar novas oportunidades de mercado e anfitriões subvalorizados. Estamos prontos para usar esses dados limpos para impulsionar o crescimento."
   ]
  },
  {
   "cell_type": "markdown",
   "metadata": {},
   "source": [
    "### Exploração Inicial com Estatísticas Descritivas"
   ]
  },
  {
   "cell_type": "code",
   "execution_count": null,
   "metadata": {},
   "outputs": [],
   "source": [
    "df_copy.describe()"
   ]
  },
  {
   "cell_type": "code",
   "execution_count": null,
   "metadata": {},
   "outputs": [],
   "source": [
    "# Entender a Concentração Geográfica\n",
    "df_copy['neighbourhood_group'].value_counts()"
   ]
  },
  {
   "cell_type": "code",
   "execution_count": null,
   "metadata": {},
   "outputs": [],
   "source": [
    "# Identificar os Tipos de Imóveis Preferidos\n",
    "df_copy['room_type'].value_counts()"
   ]
  },
  {
   "cell_type": "code",
   "execution_count": null,
   "metadata": {},
   "outputs": [],
   "source": [
    "# Avaliar a Popularidade dos Anfitriões (Empresarios)\n",
    "df_copy['host_name'].value_counts().head(10)"
   ]
  },
  {
   "cell_type": "code",
   "execution_count": null,
   "metadata": {},
   "outputs": [],
   "source": [
    "# Entender a Disponibilidade\n",
    "df_copy['availability_365'].value_counts().sort_index()"
   ]
  },
  {
   "cell_type": "markdown",
   "metadata": {},
   "source": [
    "### Relatório da Estatística Descritiva\n",
    "\n",
    ">A análise do mercado de Nova York revela que a Airbnb é dominada por duas grandes forças. Primeiro, a oferta de aluguel é fortemente concentrada em Manhattan e Brooklyn, com quase 85%. Além disso, a plataforma é predominantemente composta por \"Entire home/apt\", que representam mais da metade das listagens, sinalizando que a demanda e a oferta de imóveis buscam maior privacidade e autonomia. Esses insights mostram que o mercado de imóveis local é maduro e focado em acomodações completas nas áreas mais nobres.\n",
    "\n",
    ">O modelo de negócios na cidade é altamente profissionalizado, com um seleto grupo de anfitriões controlando um volume significativo de propriedades. A presença de nomes como Sonder e Blueground, que gerenciam centenas de imóveis, indica uma concorrência acirrada com empresas de aluguel de curta duração, e não apenas com anfitriões individuais. Além disso, a maioria das listagens tem uma estadia mínima de apenas 1 a 3 noites, e um alto número de imóveis com preços mais acessíveis, o que sugere um foco em estadias curtas e frequentes.\n",
    "\n",
    ">Uma oportunidade estratégica para alavancagem reside na extrema polarização da disponibilidade: um terço das listagens nunca foi alugada, enquanto uma parte considerável opera 365 dias por ano. Essa dualidade nos permite focar em duas frentes de crescimento: primeiro, investigar e ativar o potencial inexplorado das 17 mil listagens indisponíveis; e segundo, otimizar as operações das milhares de listagens de tempo integral, que são a base do faturamento. Essa estratégia de duplo foco pode maximizar a rentabilidade e presença na cidade de Nova York da Airbnb."
   ]
  },
  {
   "cell_type": "markdown",
   "metadata": {},
   "source": [
    "### Tratamento de Outliers"
   ]
  },
  {
   "cell_type": "code",
   "execution_count": null,
   "metadata": {},
   "outputs": [],
   "source": [
    "''' \n",
    "Azul CAIXA: #005CA9\n",
    "Laranja CAIXA: #F39200\n",
    "# Branco: #FFFFFF\n",
    "Goiaba: #EF765E\n",
    "Céu (Azul Céu): #00B5E5\n",
    "Tangerina: #F9B000\n",
    "Turquesa: #54BBAB\n",
    "Uva: #B26F9B\n",
    "Limão: #AFCA0B\n",
    "Azul-Marinho: #004198\n",
    "\n",
    "'''\n",
    "# --- Configuração da Paleta de Cores da CAIXA ---\n",
    "# Define a paleta de cores da Caixa para uso nos gráficos.\n",
    "caixa_palette = [\"#005CA9\", \"#F39200\", \"#EF765E\", \"#00B5E5\", \"#F9B000\", \"#54BBAB\", \"#B26F9B\", \"#AFCA0B\", \"#004198\"]\n",
    "sns.set_palette(caixa_palette)"
   ]
  },
  {
   "cell_type": "code",
   "execution_count": null,
   "metadata": {},
   "outputs": [],
   "source": [
    "# Lista as colunas para visualização\n",
    "columns_with_outliers = ['latitude', 'longitude', 'price', 'minimum_nights', 'number_of_reviews', 'reviews_per_month', 'calculated_host_listings_count']\n",
    "\n",
    "# Criação de subplots para organizar os gráficos verticalmente\n",
    "fig, axes = plt.subplots(nrows=1, ncols=len(columns_with_outliers), figsize=(2 * len(columns_with_outliers), 3))\n",
    "\n",
    "# Iteração sobre as colunas e criação de um boxplot vertical para cada uma\n",
    "for i, column in enumerate(columns_with_outliers):\n",
    "    sns.boxplot(y=df_copy[column], ax=axes[i])\n",
    "    axes[i].set_title(f' {column}', fontsize=10)\n",
    "    axes[i].set_xlabel('')  # Ocultar o rótulo do eixo X\n",
    "\n",
    "plt.tight_layout()\n",
    "plt.show()"
   ]
  },
  {
   "cell_type": "code",
   "execution_count": null,
   "metadata": {},
   "outputs": [],
   "source": [
    "# Boxplot agrupado # Visão Macro\n",
    "plt.figure(figsize=(10, 6))\n",
    "sns.boxplot(x='neighbourhood_group', y='price', data=df_copy)\n",
    "\n",
    "# Título e rótulos\n",
    "plt.title('Distribuição de Preço por Cidades (Grandes Distritos)')\n",
    "plt.xlabel('Cidades')\n",
    "plt.ylabel('Preço')\n",
    "\n",
    "plt.show()"
   ]
  },
  {
   "cell_type": "code",
   "execution_count": null,
   "metadata": {},
   "outputs": [],
   "source": [
    "# Boxplot agrupado # Visão Micro\n",
    "plt.figure(figsize=(10, 6))\n",
    "sns.boxplot(x='room_type', y='price', data=df_copy)\n",
    "\n",
    "# Título e rótulos\n",
    "plt.title('Distribuição de Preço por Tipo de Quarto')\n",
    "plt.xlabel('Tipo de Quarto')\n",
    "plt.ylabel('Preço')\n",
    "\n",
    "plt.show()"
   ]
  },
  {
   "cell_type": "code",
   "execution_count": null,
   "metadata": {},
   "outputs": [],
   "source": [
    "# Seaborn\n",
    "\n",
    "\"\"\"\n",
    "O gráfico mostra que a distribuição de preços é altamente assimétrica, com a grande maioria\n",
    "dos imóveis concentrada em valores baixos. Isso é evidenciado pelo pico acentuado à esquerda.\n",
    "\n",
    "Uma pequena parcela de imóveis possui valores de diária muito altos, formando uma longa cauda \n",
    "à direita e confirmando a natureza não-normal da distribuição.\n",
    "\n",
    "\"\"\"\n",
    "\n",
    "# Gráfico de histograma com KDE para visualizar a distribuição gaussiana (normal) da coluna 'price'\n",
    "sns.histplot(data=df_copy, x='price', kde=True)\n",
    "plt.title('Distribuição de Preços')\n",
    "plt.show()"
   ]
  },
  {
   "cell_type": "code",
   "execution_count": null,
   "metadata": {},
   "outputs": [],
   "source": [
    "# Seaborn\n",
    "\n",
    "\"\"\"\n",
    "Análise de dados em separado para tomada de decisão de qual técnica escolher:\n",
    "O método do Z-Score assume que os dados seguem uma distribuição normal,\n",
    "sendo sensível a dados assimétricos, já o método do IQR é robusto e não faz\n",
    "suposições sobre a distribuição dos dados. Ele se baseia na mediana (o ponto central)\n",
    "e no intervalo interquartil (a dispersão dos 50% dos dados centrais).\n",
    "Por isso, o IQR consegue identificar e remover de forma eficaz os outliers,\n",
    "mesmo em dados com forte assimetria, como os de preço, sem ser influenciado pelos valores extremos.\n",
    "\n",
    "\"\"\"\n",
    "\n",
    "# 1. Método IQR (Interquartile Range)\n",
    "Q1, Q3 = df_copy['price'].quantile([0.25, 0.75])\n",
    "IQR = Q3 - Q1\n",
    "df_iqr_treated = df_copy[(df_copy['price'] >= Q1 - 1.5 * IQR) & (df_copy['price'] <= Q3 + 1.5 * IQR)]\n",
    "\n",
    "# 2. Método Z-Score (Desvio Padrão)\n",
    "mean, std = df_copy['price'].mean(), df_copy['price'].std()\n",
    "df_std_treated = df_copy[(df_copy['price'] >= mean - 3 * std) & (df_copy['price'] <= mean + 3 * std)]\n",
    "\n",
    "# --- Visualização em um único gráfico ---\n",
    "fig, axes = plt.subplots(1, 3, figsize=(18, 6))\n",
    "fig.suptitle('Comparativo de Preços antes e depois do Tratamento de Outliers', fontsize=16)\n",
    "\n",
    "# Boxplot dos dados originais\n",
    "sns.boxplot(y=df_copy['price'], ax=axes[0])\n",
    "axes[0].set_title('Antes do Tratamento', fontsize=12)\n",
    "\n",
    "# Boxplot após tratamento com IQR\n",
    "sns.boxplot(y=df_iqr_treated['price'], ax=axes[1])\n",
    "axes[1].set_title(f'Tratamento IQR\\n(Removidos {len(df_copy) - len(df_iqr_treated)} outliers)', fontsize=12)\n",
    "\n",
    "# Boxplot após tratamento com Desvio Padrão (Z-Score)\n",
    "sns.boxplot(y=df_std_treated['price'], ax=axes[2])\n",
    "axes[2].set_title(f'Tratamento Z-Score\\n(Removidos {len(df_copy) - len(df_std_treated)} outliers)', fontsize=12)\n",
    "\n",
    "plt.tight_layout(rect=[0, 0, 1, 0.95]) # Ajusta layout para não sobrepor o título\n",
    "plt.show()"
   ]
  },
  {
   "cell_type": "code",
   "execution_count": null,
   "metadata": {},
   "outputs": [],
   "source": [
    "# Remove os outliers do DataFrame 'df_copy' usando o método IQR\n",
    "Q1, Q3 = df_copy['price'].quantile([0.25, 0.75])\n",
    "IQR = Q3 - Q1\n",
    "df_copy = df_copy[(df_copy['price'] >= Q1 - 1.5 * IQR) & (df_copy['price'] <= Q3 + 1.5 * IQR)]"
   ]
  },
  {
   "cell_type": "markdown",
   "metadata": {},
   "source": [
    "### Relatório do Tratamento de Outliers\n",
    "\n",
    ">Nossa estratégia de análise de dados foi desenhada para otimizar o desempenho de receita, concentrando-se na variável mais crítica: o preço. A análise inicial revelou que os preços das diárias em Nova York são altamente assimétricos, com valores extremos que poderiam comprometer a capacidade de otimização e previsão. Para mitigar esse risco, optamos por um tratamento cirúrgico: a remoção de outliers exclusivamente da coluna price utilizando o método do Intervalo Interquartil (IQR). Essa abordagem robusta nos permitiu obter uma base de informações limpa e confiável, garantindo que nossa análise e modelos preditivos se concentrem no mercado representativo, essencial para maximizar a ocupação e otimizar estratégias de preços.\n",
    "\n",
    ">Ao mesmo tempo, mantivemos deliberadamente os outliers em outras variáveis, pois eles não são erros, mas sim insights valiosos sobre a complexidade do mercado. Outliers em minimum_nights e calculated_host_listings_count revelam a presença de nichos importantes, como aluguéis de longo prazo e anfitriões profissionais. Da mesma forma, picos em number_of_reviews e reviews_per_month indicam propriedades de alta demanda, enquanto outliers em latitude e longitude mapeiam a expansão geográfica do Airbnb para além das áreas mais densas. Essa abordagem diferenciada permite desenvolver uma política de preços de duas etapas: uma para o período normal e outra, aplicando um \"prêmio estratégico\" para maximizar a receita em picos de alta demanda e impulsionando o crescimento sustentável da Airbnb."
   ]
  },
  {
   "cell_type": "markdown",
   "metadata": {},
   "source": [
    "### Visualizações com Seaborn"
   ]
  },
  {
   "cell_type": "code",
   "execution_count": null,
   "metadata": {},
   "outputs": [],
   "source": [
    "\"\"\"\n",
    "A popularidade de um imóvel, medida pelas avaliações, não depende do seu preço. \n",
    "Imóveis com preços baixos podem ter muitas avaliações, enquanto outros mais caros \n",
    "podem ter poucas. O preço, por si só, não garante sucesso.\n",
    "\n",
    "\"\"\"\n",
    "# Seleciona as colunas de interesse para o pairplot\n",
    "cols_to_plot = [\n",
    "    'price',\n",
    "    'reviews_per_month',\n",
    "    ]\n",
    "\n",
    "# Cria o pairplot\n",
    "# Nota: Pairplots podem demorar para rodar em datasets muito grandes.\n",
    "sns.pairplot(df_copy[cols_to_plot])\n",
    "plt.suptitle('Relações entre Variáveis Chave do Airbnb', y=1.02)\n",
    "plt.show()"
   ]
  },
  {
   "cell_type": "code",
   "execution_count": null,
   "metadata": {},
   "outputs": [],
   "source": [
    "# Contando o número de reviews por ano\n",
    "reviews_ano = df_copy['last_review'].dt.year.value_counts().sort_index()\n",
    "\n",
    "\n",
    "plt.figure(figsize=(10, 5))\n",
    "sns.lineplot(x=reviews_ano.index, y=reviews_ano.values, marker=\"o\", linewidth=2)\n",
    "plt.title(\"Crescimento do Mercado: Reviews por Ano\", fontsize=16, weight=\"bold\")\n",
    "plt.xlabel(\"Ano\")\n",
    "plt.ylabel(\"Volume de Reviews (Indicador de Atividade)\")\n",
    "plt.grid(True, linestyle='--', alpha=0.6)  # Adiciona grades para leitura mais fácil\n",
    "plt.show()"
   ]
  },
  {
   "cell_type": "code",
   "execution_count": null,
   "metadata": {},
   "outputs": [],
   "source": [
    "# --- Comparação por tipo de quarto: preço médio ---\n",
    "preco_tipo = df_copy.groupby(\"room_type\")['price'].mean().sort_values()\n",
    "\n",
    "plt.figure(figsize=(6,5))\n",
    "sns.barplot(x=preco_tipo.index, y=preco_tipo.values, palette=sns.color_palette())\n",
    "plt.title(\"Comparativo de Preços por Tipo de Acomodação\", fontsize=14, weight=\"bold\")\n",
    "plt.ylabel(\"Preço Médio (US$)\")\n",
    "plt.xlabel(\"Tipo de Quarto\")\n",
    "plt.show()"
   ]
  },
  {
   "cell_type": "markdown",
   "metadata": {},
   "source": [
    "### Relatório de Visualizações com Seaborn\n",
    "\n",
    ">A evolução das avaliações do Airbnb em Nova York revela uma narrativa de sucesso e escala. O crescimento constante até 2018 demonstra a construção de uma base sólida de confiança, enquanto o ano de 2019 marca um momento decisivo com uma aceleração exponencial no engajamento dos usuários. Esse salto impressionante é a prova definitiva de que a plataforma atingiu a maturidade, transformando-se de um serviço inovador em uma força dominante no mercado, com uma adoção massiva e uma posição de liderança inquestionável. E, ao analisar a popularidade dos imóveis individualmente, nota-se que a atratividade não está diretamente ligada ao preço, pois a quantidade de avaliações mensais não tem correlação com o valor da diária, indicando que a escolha do hóspede é influenciada por outros fatores. Aprofundando a análise, identificamos que o tipo de acomodação é um fator determinante para a precificação, com a diária de casas ou apartamentos inteiros sendo, em média, mais do que o dobro do valor de quartos privados ou compartilhados."
   ]
  },
  {
   "cell_type": "code",
   "execution_count": null,
   "metadata": {},
   "outputs": [],
   "source": [
    "# Filtra os 5 primeiros bairros\n",
    "top_5_neighbourhoods = df_copy['neighbourhood_group'].value_counts().nlargest(5).index\n",
    "df_top5 = df_copy[df_copy['neighbourhood_group'].isin(top_5_neighbourhoods)]\n",
    "\n",
    "# ------------------------------------------------------------------\n",
    "# Gráfico com os Dados Filtrados\n",
    "# ------------------------------------------------------------------\n",
    "plt.figure(figsize=(8, 6))\n",
    "\n",
    "# Gráfico de dispersão\n",
    "sns.scatterplot(\n",
    "    x='longitude',\n",
    "    y='latitude',\n",
    "    hue='neighbourhood_group',\n",
    "    size='price',\n",
    "    data=df_top5,  # Usa o DataFrame filtrado\n",
    "    sizes=(50, 300),\n",
    "    hue_order=top_5_neighbourhoods  # Ordena a legenda para mostrar apenas os 5 bairros\n",
    ")\n",
    "\n",
    "# Título do gráfico\n",
    "plt.title(\"Mapeando a Dinâmica de Preços de Nova York\", fontsize=16)\n",
    "\n",
    "# Exibir o gráfico\n",
    "plt.show()\n"
   ]
  },
  {
   "cell_type": "markdown",
   "metadata": {},
   "source": [
    "### Relatório do Mapa\n",
    "\n",
    ">Com base na análise de dispersão geográfica, a dinâmica de preços do mercado de aluguel de curta duração em Nova York revela uma segmentação clara e estratégica por distrito. O gráfico demonstra visualmente que Manhattan não apenas concentra o maior volume de listagens, mas também domina o segmento premium, com preços consistentemente mais altos, o que a posiciona como o principal motor de receita do mercado. Em contraste, Brooklyn e Queens operam como mercados intermediários, com uma mistura de preços, enquanto Staten Island e Bronx oferecem as opções mais acessíveis. Essa segmentação é um insight fundamental para direcionar estratégias de precificação, marketing e otimização de portfólio, permitindo uma abordagem mais cirúrgica para maximizar a lucratividade em cada submercado distinto."
   ]
  },
  {
   "cell_type": "markdown",
   "metadata": {},
   "source": [
    "### Group By e Agregações"
   ]
  },
  {
   "cell_type": "markdown",
   "metadata": {},
   "source": [
    "1. Quais são as características dos imóveis com maior taxa de ocupação e receita?"
   ]
  },
  {
   "cell_type": "code",
   "execution_count": null,
   "metadata": {},
   "outputs": [],
   "source": [
    "# Agrupar por tipo de quarto e bairro, calculando a taxa de ocupação e receita médias\n",
    "# `365 - availability_365` para calcular a média de dias ocupados\n",
    "df_analise = df_copy.groupby(['room_type', 'neighbourhood']).agg(\n",
    "    taxa_ocupacao_media=('availability_365', lambda x: 365 - x.mean()),\n",
    "    receita_media=('price', 'mean')\n",
    ")\n",
    "\n",
    "# Ranqueamento dos imóveis com maior taxa de ocupação e maior receita\n",
    "df_analise = df_analise.sort_values(by=['taxa_ocupacao_media', 'receita_media'], ascending=False)\n",
    "\n",
    "# Exibir os resultados\n",
    "print(df_analise.head(5))"
   ]
  },
  {
   "cell_type": "markdown",
   "metadata": {},
   "source": [
    "### Resposta da primeira pergunta de negócio\n",
    "\n",
    "> A análise revela que os imóveis com 100% de taxa de ocupação, localizados em bairros como Port Richmond e Hunts Point, são majoritariamente do tipo \"Entire home/apt\", indicando que a demanda por espaços completos, que oferecem privacidade e conforto total, é a mais alta. Este é um dado crucial para nossa estratégia.\n",
    "\n",
    ">A alocação de recursos e esforços de marketing deve ser direcionada para atrair mais anfitriões que oferecem a casa inteira, especialmente nestes bairros de alta performance, maximizando a receita e fortalecendo a posição competitiva da Airbnb. Isso permite não apenas atender, mas antecipar a preferência do mercado, investindo no que de fato gera maior retorno e satisfação do cliente."
   ]
  },
  {
   "cell_type": "markdown",
   "metadata": {},
   "source": [
    "2. Quais são os bairros com maior concentração de imóveis com alta taxa de cancelamento e por quê?\n",
    "\n",
    "> É crucial basear as análises em dados precisos e disponíveis. A pergunta sobre a taxa de cancelamento é de extrema importância estratégica, no entanto, os dados disponíveis não inclui uma variável que registre diretamente a taxa ou o número de cancelamentos.\n",
    "\n",
    "> Dada essa limitação, não é possível calcular a concentração de imóveis com alta taxa de cancelamento ou determinar a causa (\"o porquê\") a partir das informações disponíveis. Para responder a essa pergunta de forma precisa, seria necessário ter acesso a dados de reservas canceladas.\n",
    "\n",
    "> Contudo, mesmo com a ausência de dados diretos sobre cancelamentos, tem-se uma abordagem analítica alternativa e estratégica para extrair insights. A análise se concentra em indicadores que revelam o perfil de anfitriões e o modelo de operação de cada bairro. É possível identificar a alta concentração de anfitriões que gerenciam múltiplos imóveis(calculated_host_listings_count) e os requisitos elevados de noites mínimas (minimum_nights), em que são indicadores-chave de um maior risco de cancelamentos. Ao analisar esses fatores, podemos identificar os bairros com maior probabilidade de problemas de gestão e, assim, direcionar as estratégias de forma mais eficaz.\""
   ]
  },
  {
   "cell_type": "code",
   "execution_count": null,
   "metadata": {},
   "outputs": [],
   "source": [
    "# Agrupar por bairro e tipo de acomodação, e calcular a média de imóveis por anfitrião e noites mínimas.\n",
    "df_analise = df_copy.groupby(['neighbourhood', 'room_type']).agg(\n",
    "    media_imoveis_por_anfitriao=('calculated_host_listings_count', 'mean'),\n",
    "    media_noites_minimas=('minimum_nights', 'mean')\n",
    ")\n",
    "\n",
    "# Ranqueamento dos bairros com base na média de imóveis por anfitrião.\n",
    "# Mostra onde a concentração de anfitriões profissionais é maior.\n",
    "df_analise = df_analise.sort_values(by='media_imoveis_por_anfitriao', ascending=False)\n",
    "\n",
    "# Exibir os resultados para entender os bairros com maior propensão a cancelamentos\n",
    "print(df_analise.head(10))"
   ]
  },
  {
   "cell_type": "markdown",
   "metadata": {},
   "source": [
    "### Resposta da segunda pergunta de negócio\n",
    "> A análise revela que os bairros com a maior concentração de imóveis gerenciados por anfitriões profissionais são o Financial District e o Theater District, com uma média de mais de 100 anúncios por anfitrião. Curiosamente, esses mesmos bairros também apresentam requisitos de noites mínimas acima da média, especialmente o Theater District, o que sugere uma operação mais comercial e menos flexível. Este cenário corporativo, combinado com a inflexibilidade das reservas, cria uma alta probabilidade de cancelamentos. Para a Airbnb, isso significa que estes bairros demandam atenção especial em termos de gestão de relacionamento e políticas, a fim de mitigar riscos de insatisfação tanto para anfitriões quanto para hóspedes."
   ]
  },
  {
   "cell_type": "markdown",
   "metadata": {},
   "source": [
    "### Correlação"
   ]
  },
  {
   "cell_type": "code",
   "execution_count": null,
   "metadata": {},
   "outputs": [],
   "source": [
    "correlacoes = df_copy.corr(numeric_only=True)\n",
    "\n",
    "plt.figure(figsize=(6, 4))\n",
    "sns.heatmap(correlacoes, annot=True, cmap=caixa_palette, fmt=\".2f\")\n",
    "plt.title('Mapa de Calor de Correlação entre Variáveis do Airbnb')\n",
    "plt.show()"
   ]
  },
  {
   "cell_type": "markdown",
   "metadata": {},
   "source": [
    "### Relatório da Correlação\n",
    "> A análise das correlações revela que não há dependências fortes entre as variáveis do Airbnb, mas emergem alguns insights relevantes: a relação positiva mais significativa é entre número de avaliações e reviews por mês (0,59), confirmando que imóveis com maior fluxo de reservas mantêm consistência de demanda ao longo do tempo. Já a correlação negativa entre longitude e preço (-0,31) sugere que áreas específicas da cidade concentram imóveis mais caros, reforçando a influência da localização na formação de preços. Além disso, a quantidade de anúncios por anfitrião e a disponibilidade anual mostram correlações moderadas com receita e reviews, apontando que anfitriões profissionais tendem a manter maior disponibilidade, mas sem garantia de maior conversão em reservas. Esses padrões indicam que localização e dinâmica de demanda são os fatores mais críticos para explicar desempenho e precificação no Airbnb."
   ]
  },
  {
   "cell_type": "markdown",
   "metadata": {},
   "source": [
    "### Teste de Hipóteses"
   ]
  },
  {
   "cell_type": "code",
   "execution_count": null,
   "metadata": {},
   "outputs": [],
   "source": [
    "\"\"\"\n",
    "Comparar as médias de reviews_per_month entre as três categorias de room_type simultaneamente,\n",
    "a ferramenta estatística adequada não seria o teste t, mas sim o ANOVA (Análise de Variância),\n",
    "por isso é realizado o filtro, apenas Entire home/apt e Private room. Com isso, Shared room ficou de fora.\n",
    "\n",
    "Teste t, precisa estar com os dados paramêtricos (distribuição gaussiana-normal)\n",
    "e uma variável contínua e uma variável binária. A média é calculada da variável contínua.\n",
    "Entre duas variáveis binárias (ou categóricas) o ideal é o qui-quadrado (χ2), teste não paramétrico.\n",
    "\n",
    "\"\"\"\n",
    "# --- Selecionar apenas as colunas de interesse ---\n",
    "# --- Filtra apenas Entire home/apt e Private room ---\n",
    "q_inteiro = df_copy.loc[df_copy['room_type']=='Entire home/apt','reviews_per_month'] #.dropna() já no filtro (limpeza + dropna)\n",
    "q_privado = df_copy.loc[df_copy['room_type']=='Private room','reviews_per_month'] #.dropna()\n",
    "\n",
    "# --- Teste t de Student para duas amostras independentes (hipótese: médias iguais) ---\n",
    "# # Retorna a estatística t e o valor p do teste\n",
    "t, p = stats.ttest_ind(q_inteiro, q_privado, equal_var=False)\n",
    "\n",
    "# --- Resultados principais ---\n",
    "print(f\"Média Quartos Inteiros: {q_inteiro.mean():.2f}\")\n",
    "print(f\"Média Quartos Privados: {q_privado.mean():.2f}\")\n",
    "print(f\"T={t:.4f} | p-valor={p:.4f}\")\n",
    "\n",
    "# --- Interpretação do Resultado ---\n",
    "print(\"Resultado:\",\"Rejeitamos H0 (diferença significativa)\" if p<0.05 else \"Não rejeitamos H0 (sem diferença significativa)\")"
   ]
  },
  {
   "cell_type": "code",
   "execution_count": null,
   "metadata": {},
   "outputs": [],
   "source": [
    "Azul_Marinho = \"#004198\"\n",
    "Turquesa = \"#54BBAB\"\n",
    "\n",
    "# 1. Calcular as médias de reviews por tipo de quarto, usando df_copy.\n",
    "medias_reviews = df_copy.groupby('room_type')['reviews_per_month'].mean()\n",
    "\n",
    "# 2. Preparar os dados para os gráficos.\n",
    "labels = ['Quartos Inteiros', 'Quartos Privados']\n",
    "medias_depois = [medias_reviews.loc['Entire home/apt'], medias_reviews.loc['Private room']]\n",
    "cores_depois = [Azul_Marinho, Turquesa]\n",
    "\n",
    "# 3. Criação dos subplots.\n",
    "fig, (ax1, ax2) = plt.subplots(1, 2, figsize=(10, 5))\n",
    "\n",
    "# 4. Gráfico 'Antes' - mostrando a percepção inicial de similaridade.\n",
    "ax1.bar(labels, [1, 1], color=[Turquesa, Turquesa])\n",
    "ax1.set_title('Antes: Percepção de Similaridade')\n",
    "ax1.set_ylabel('Média de Reviews (Representação)')\n",
    "ax1.set_ylim(0, max(medias_depois) * 1.2)\n",
    "ax1.spines[['top', 'right']].set_visible(False)\n",
    "\n",
    "# 5. Gráfico 'Depois' - revelando o resultado da análise com destaque visual.\n",
    "sns.barplot(x=labels, y=medias_depois, palette=cores_depois, ax=ax2)\n",
    "ax2.set_title('Depois: Análise Estatística')\n",
    "ax2.set_ylabel('Média de Reviews por Mês')\n",
    "ax2.set_ylim(0, max(medias_depois) * 1.2)\n",
    "ax2.spines[['top', 'right']].set_visible(False)\n",
    "\n",
    "# 6. Adicionar os valores nas barras do gráfico 'Depois' para maior clareza.\n",
    "for i, v in enumerate(medias_depois):\n",
    "    ax2.text(i, v + 0.1, f'{v:.2f}', ha='center', fontweight='bold')\n",
    "\n",
    "plt.tight_layout()\n",
    "plt.show()"
   ]
  },
  {
   "cell_type": "markdown",
   "metadata": {},
   "source": [
    "### Relatório do Teste de Hipóteses\n",
    "\n",
    "> Análise estatística desmistifica uma percepção comum: o mercado de quartos privados, muitas vezes subestimado, é um centro de alta atividade e engajamento. Com uma média de 1.15 reviews por mês — estatisticamente superior aos 1.06 de imóveis inteiros — os dados confirmam que a interação direta entre anfitrião e hóspede gera um nível de feedback e confiança excepcionalmente alto. Este é um insight valioso que nos convida a otimizar as estratégias para esse segmento, capitalizando em uma base de usuários altamente engajada para impulsionar a experiência na plataforma e garantir nosso crescimento sustentado.\n",
    "\n",
    "> A explicação mais provável para esse maior engajamento é que a experiência de alugar um quarto privado geralmente envolve maior interação e contato direto com o anfitrião, o que tende a incentivar os hóspedes a deixarem um feedback após a estadia."
   ]
  },
  {
   "cell_type": "markdown",
   "metadata": {},
   "source": [
    "### Conclusão e Recomendações \n",
    "\n",
    "---\n",
    "\n",
    "###  1. O que aprendemos?  \n",
    "A análise aprofundada do dataset do Airbnb em Nova York revela um **mercado maduro, competitivo e polarizado**.  \n",
    "\n",
    "- **85% das ofertas** estão concentradas em Manhattan e Brooklyn, reforçando o domínio dessas regiões.  \n",
    "- Imóveis em bairros menos conhecidos carregam um **potencial ainda pouco explorado**.  \n",
    "- Mais da metade das listagens são de **“Entire home/apt”**, refletindo a preferência por **privacidade e autonomia**.  \n",
    "- Cerca de **1/3 dos imóveis nunca foi alugado**, enquanto milhares operam **365 dias por ano**, criando uma divisão clara entre:  \n",
    "  - Propriedades que geram **alto faturamento**  \n",
    "  - Propriedades que representam **custo de oportunidade** (ativos inativos que poderiam gerar receita).  \n",
    "\n",
    "O tratamento cuidadoso dos dados e dos outliers permitiu **separar ruído de oportunidade real**, revelando insights valiosos para **precificação, demanda e engajamento**.\n",
    "\n",
    "---\n",
    "\n",
    "### 2. O que isso significa para o negócio?  \n",
    "Em termos estratégicos, os achados reforçam que a Airbnb está diante de uma **fronteira decisiva entre Lucro e Falência** em determinados segmentos:  \n",
    "\n",
    "> 🔹 **Lucro**: aproveitar o potencial inexplorado de milhares de listagens subutilizadas e otimizar preços em períodos de alta demanda.  \n",
    "> 🔹 **Falência**: manter imóveis inativos, gerando **custos sem retorno**, ou operar com rigidez que aumenta riscos de cancelamento e insatisfação.  \n",
    "\n",
    "O engajamento superior em **quartos privados** desafia a percepção do mercado, mostrando que a **experiência próxima ao anfitrião** é uma vantagem competitiva frente a concorrentes corporativos.  \n",
    "A sustentabilidade do negócio depende de **equilibrar escala com qualidade de experiência**, maximizando receita sem comprometer a confiança do usuário.\n",
    "\n",
    "---\n",
    "\n",
    "### 3. Recomendações Práticas\n",
    "\n",
    "> 🔹 **Ativar imóveis inativos com incentivos estratégicos**  \n",
    "> Campanhas específicas para anfitriões com listagens sem reservas, oferecendo apoio em **gestão, qualidade, precificação, marketing local e maior visibilidade na plataforma**.  \n",
    "\n",
    "---\n",
    "\n",
    "> 🔹 **Otimizar portfólio por segmentação geográfica**  \n",
    "> Aplicar políticas diferenciadas de precificação, com **“prêmio estratégico” em Manhattan e Brooklyn** e estímulos para crescimento em **Bronx e Staten Island**, onde os custos são mais acessíveis.  \n",
    "\n",
    "---\n",
    "\n",
    "> 🔹 **Capitalizar no engajamento dos quartos privados**  \n",
    "> Reposicionar este segmento como **experiência premium de hospitalidade**, aumentando margens através de **pacotes de serviços, fidelização e marketing direcionado**.  \n",
    "\n",
    "---\n",
    "\n",
    "### 4. Próximos Passos e Limitações  \n",
    "\n",
    "Para expandir o impacto, recomendamos avançar em duas frentes:  \n",
    "\n",
    "1. **Adquirir dados complementares**  \n",
    "   - Especialmente sobre **cancelamentos** e **padrões de fidelidade**, essenciais para prever risco de perda e garantir estabilidade da plataforma.  \n",
    "\n",
    "2. **Investir em modelos preditivos de demanda**  \n",
    "   - Com **granularidade de bairro**, permitindo decisões mais cirúrgicas em **precificação e oferta**.  \n",
    "\n",
    "> 🔹 Limitação: insights atuais refletem o mercado até 2019; mudanças regulatórias e novas dinâmicas de turismo podem ter alterado o cenário.  \n",
    "\n",
    "O desafio estratégico é **transformar esse conhecimento em vantagem competitiva duradoura**, garantindo que a Airbnb **maximize lucros** e **evite riscos de falência** em um dos mercados mais estratégicos do mundo."
   ]
  }
 ],
 "metadata": {
  "kernelspec": {
   "display_name": "Python 3.10 (py310)",
   "language": "python",
   "name": "py310"
  },
  "language_info": {
   "codemirror_mode": {
    "name": "ipython",
    "version": 3
   },
   "file_extension": ".py",
   "mimetype": "text/x-python",
   "name": "python",
   "nbconvert_exporter": "python",
   "pygments_lexer": "ipython3",
   "version": "3.10.18"
  }
 },
 "nbformat": 4,
 "nbformat_minor": 4
}
